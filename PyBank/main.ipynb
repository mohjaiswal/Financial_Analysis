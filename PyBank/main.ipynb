{
 "cells": [
  {
   "cell_type": "code",
   "execution_count": 4,
   "id": "dd4ccb2e-de04-46ba-8cfd-029528914c27",
   "metadata": {},
   "outputs": [
    {
     "name": "stdout",
     "output_type": "stream",
     "text": [
      "/Users/mohjaiswal\n"
     ]
    }
   ],
   "source": [
    "#Finding Working Directory\n",
    "\n"
   ]
  },
  {
   "cell_type": "code",
   "execution_count": 74,
   "id": "9d7d3b56-75d2-4d5a-9099-fd18f1fab1f2",
   "metadata": {},
   "outputs": [],
   "source": [
    "#File path for budget data\n",
    "from pathlib import Path\n",
    "import csv\n",
    "csv_pathname = Path('/Users/mohjaiswal/Desktop/Unit-2-Homework-Asn/budget_data.csv')"
   ]
  },
  {
   "cell_type": "code",
   "execution_count": 75,
   "id": "cf3aad44-b0e3-4ff8-b5ff-c6fc3ec5da98",
   "metadata": {},
   "outputs": [],
   "source": [
    "#Creating output folder name 'final_output'\n",
    "\n",
    "output_path = Path('final_output.txt')\n",
    "\n",
    "#Set the parameters\n",
    "avg=0\n",
    "chg=0\n",
    "max_key=''\n",
    "max_pnl=0\n",
    "min_key=''\n",
    "min_pnl=0\n",
    "months=0\n",
    "pnl=0\n",
    "records=[]\n",
    "total=0\n",
    "total_chg=0"
   ]
  },
  {
   "cell_type": "code",
   "execution_count": 76,
   "id": "178027e6-b2e3-4c0c-8b64-bf6ab639cdbf",
   "metadata": {},
   "outputs": [],
   "source": [
    "#Financial Analysis\n",
    "\n",
    "# Sumtotal Months and Sumtotal Revenue \n",
    "def Analysis(budget_data):\n",
    "    global months\n",
    "    global total\n",
    "    months = months + 1\n",
    "    total = total + int(row[1])\n",
    "\n",
    "# Revenue Change between months over the period \n",
    "def Difference(budget_data):\n",
    "    global pnl\n",
    "    global chg\n",
    "    global total_chg\n",
    "    pnl = int(row[1])\n",
    "    if months == 1:\n",
    "        chg = 0\n",
    "    else:\n",
    "        chg = pnl - chg\n",
    "    total_chg = total_chg + chg"
   ]
  },
  {
   "cell_type": "code",
   "execution_count": 77,
   "id": "6cdaf824-0fff-41ac-9d0d-45692e66a433",
   "metadata": {},
   "outputs": [],
   "source": [
    "with open(csv_pathname, 'r') as csv_file:\n",
    "    csv_reader = csv.reader(csv_file, delimiter=\",\")\n",
    "    csv_header = next(csv_reader)\n",
    "    csv_header.append(\"Change\")\n",
    "    records.append(csv_header)\n",
    "    for row in csv_reader:\n",
    "        Analysis(row)\n",
    "        Difference(row)\n",
    "        row.append(chg)\n",
    "        records.append(row)\n",
    "        chg = pnl\n",
    "        if min_pnl == 0:\n",
    "            min_pnl = int(row[2])\n",
    "            min_key = str(row[0])\n",
    "        elif int(row[2]) < min_pnl:\n",
    "              min_pnl = int(row[2])\n",
    "              min_key = str(row[0])\n",
    "        if int(row[2]) > max_pnl:\n",
    "              max_pnl = int(row[2])\n",
    "              max_key = str(row[0])\n",
    "avg = round((total_chg/(months-1)),2)"
   ]
  },
  {
   "cell_type": "code",
   "execution_count": 78,
   "id": "00442b74-7b5e-4368-982c-2d00d219eec2",
   "metadata": {},
   "outputs": [
    {
     "name": "stdout",
     "output_type": "stream",
     "text": [
      "Financial Analysis\n",
      "----------------------------------------------------\n",
      "Total Months: 86\n",
      "Total: $38382578\n",
      "Average Change: $-2315.12\n",
      "Greatest Increase in Profits: Feb-2012 ($1926159)\n",
      "Greatest Decrease in Profits: Sep-2013 ($-2196167)\n"
     ]
    }
   ],
   "source": [
    "print(f'Financial Analysis')\n",
    "print(f'----------------------------------------------------')\n",
    "print(f'Total Months: {months}')\n",
    "print(f'Total: ${total}')\n",
    "print(f'Average Change: ${average}')\n",
    "print(f'Greatest Increase in Profits: {max_key} (${max_pnl})')\n",
    "print(f'Greatest Decrease in Profits: {min_key} (${min_pnl})')"
   ]
  },
  {
   "cell_type": "code",
   "execution_count": 79,
   "id": "671358bb-d9a6-405e-9506-b8519f14f5c0",
   "metadata": {},
   "outputs": [],
   "source": [
    "#Printing to output_path\n",
    "\n",
    "with open(output_path, 'w') as file:\n",
    "    file.write(f'Financial Analysis\\n')\n",
    "    file.write(f'----------------------------------------------------\\n')\n",
    "    file.write(f'Total Months: {months}\\n')\n",
    "    file.write(f'Total: ${total}\\n')\n",
    "    file.write(f'Average Change: ${average}\\n')\n",
    "    file.write(f'Greatest Increase in Profits: {max_key} (${max_pnl})\\n')\n",
    "    file.write(f'Greatest Decrease in Profits: {min_key} (${min_pnl})\\n')"
   ]
  },
  {
   "cell_type": "code",
   "execution_count": null,
   "id": "c2c25e65-1188-4ddd-89d0-7e9b29358667",
   "metadata": {},
   "outputs": [],
   "source": []
  }
 ],
 "metadata": {
  "kernelspec": {
   "display_name": "Python 3 (ipykernel)",
   "language": "python",
   "name": "python3"
  },
  "language_info": {
   "codemirror_mode": {
    "name": "ipython",
    "version": 3
   },
   "file_extension": ".py",
   "mimetype": "text/x-python",
   "name": "python",
   "nbconvert_exporter": "python",
   "pygments_lexer": "ipython3",
   "version": "3.9.12"
  }
 },
 "nbformat": 4,
 "nbformat_minor": 5
}
